{
 "cells": [
  {
   "cell_type": "markdown",
   "metadata": {},
   "source": [
    "## Work\n",
    "1. 請嘗試寫一個 callback 用來記錄各類別在訓練過程中，對驗證集的 True Positive 與 True Negative"
   ]
  },
  {
   "cell_type": "code",
   "execution_count": 1,
   "metadata": {},
   "outputs": [
    {
     "name": "stderr",
     "output_type": "stream",
     "text": [
      "Using TensorFlow backend.\n"
     ]
    }
   ],
   "source": [
    "import os\n",
    "import keras\n",
    "\n",
    "# Disable GPU\n",
    "os.environ[\"CUDA_VISIBLE_DEVICES\"] = \"\""
   ]
  },
  {
   "cell_type": "code",
   "execution_count": 2,
   "metadata": {},
   "outputs": [],
   "source": [
    "train, test = keras.datasets.cifar10.load_data()"
   ]
  },
  {
   "cell_type": "code",
   "execution_count": 3,
   "metadata": {},
   "outputs": [],
   "source": [
    "## 資料前處理\n",
    "def preproc_x(x, flatten=True):\n",
    "    x = x / 255.\n",
    "    if flatten:\n",
    "        x = x.reshape((len(x), -1))\n",
    "    return x\n",
    "\n",
    "def preproc_y(y, num_classes=10):\n",
    "    if y.shape[-1] == 1:\n",
    "        y = keras.utils.to_categorical(y, num_classes)\n",
    "    return y    "
   ]
  },
  {
   "cell_type": "code",
   "execution_count": 4,
   "metadata": {},
   "outputs": [],
   "source": [
    "x_train, y_train = train\n",
    "x_test, y_test = test\n",
    "\n",
    "# Preproc the inputs\n",
    "x_train = preproc_x(x_train)\n",
    "x_test = preproc_x(x_test)\n",
    "\n",
    "# Preprc the outputs\n",
    "y_train = preproc_y(y_train)\n",
    "y_test = preproc_y(y_test)"
   ]
  },
  {
   "cell_type": "code",
   "execution_count": 5,
   "metadata": {},
   "outputs": [],
   "source": [
    "from keras.layers import BatchNormalization\n",
    "def build_mlp(input_shape, output_units=10, num_neurons=[256, 256, 256]):\n",
    "    \"\"\"Code Here\n",
    "    建立你的神經網路\n",
    "    \"\"\"\n",
    "    input_layer = keras.layers.Input(input_shape)\n",
    "    \n",
    "    for i, n_units in enumerate(num_neurons):\n",
    "        if i == 0:\n",
    "            x = keras.layers.Dense(units=n_units, \n",
    "                                   activation=\"relu\", \n",
    "                                   name=\"hidden_layer\"+str(i+1))(input_layer)\n",
    "            x = BatchNormalization()(x)\n",
    "        else:\n",
    "            x = keras.layers.Dense(units=n_units, \n",
    "                                   activation=\"relu\", \n",
    "                                   name=\"hidden_layer\"+str(i+1))(x)\n",
    "            x = BatchNormalization()(x)\n",
    "    \n",
    "    out = keras.layers.Dense(units=output_units, activation=\"softmax\", name=\"output\")(x)\n",
    "    \n",
    "    model = keras.models.Model(inputs=[input_layer], outputs=[out])\n",
    "    return model"
   ]
  },
  {
   "cell_type": "code",
   "execution_count": 6,
   "metadata": {},
   "outputs": [],
   "source": [
    "## 超參數設定\n",
    "LEARNING_RATE = 1e-3\n",
    "EPOCHS = 25\n",
    "BATCH_SIZE = 1024\n",
    "MOMENTUM = 0.95"
   ]
  },
  {
   "cell_type": "code",
   "execution_count": 7,
   "metadata": {},
   "outputs": [],
   "source": [
    "# 載入 Callbacks\n",
    "from keras.callbacks import Callback\n",
    "\n",
    "# Record_fp_tp\n",
    "class Record_tp_tn(Callback):\n",
    "    \"\"\"Code Here\n",
    "    撰寫一個紀錄 ture positive 與 true negative 數量的 callbacks    \n",
    "    \"\"\"\n",
    "    def on_train_begin(self, epoch, logs = {}):\n",
    "        logs = logs or {}\n",
    "        record_items = [\"val_auc\", \"val_f1sc\", \"val_fp\", \"val_fn\", \"val_tp\", \"val_tn\"]\n",
    "        for i in record_items:\n",
    "            if i not in self.params['metrics']:\n",
    "                self.params['metrics'].append(i)\n",
    "    \n",
    "    def on_epoch_end(self, epoch, logs = {}, thres=0.5):\n",
    "        logs = logs or {}\n",
    "        y_true = self.validation_data[1].argmax(axis = 1)\n",
    "        y_pred = self.model.predict(self.validation_data[0])\n",
    "        y_pred = (y_pred[:, 1] >= thres) * 1\n",
    "        \n",
    "        correctness = (y_true == y_pred)\n",
    "        positive = (y_pred != 0)\n",
    "        negative = (y_pred == 0)\n",
    "        \n",
    "        logs[\"val_tp\"] = (correctness & positive).sum()\n",
    "        logs[\"val_tn\"] = (correctness & negative).sum()\n",
    "        \n",
    "rec_tptn = Record_tp_tn()"
   ]
  },
  {
   "cell_type": "code",
   "execution_count": 9,
   "metadata": {
    "scrolled": true
   },
   "outputs": [
    {
     "name": "stdout",
     "output_type": "stream",
     "text": [
      "Model: \"model_2\"\n",
      "_________________________________________________________________\n",
      "Layer (type)                 Output Shape              Param #   \n",
      "=================================================================\n",
      "input_2 (InputLayer)         (None, 3072)              0         \n",
      "_________________________________________________________________\n",
      "hidden_layer1 (Dense)        (None, 256)               786688    \n",
      "_________________________________________________________________\n",
      "batch_normalization_4 (Batch (None, 256)               1024      \n",
      "_________________________________________________________________\n",
      "hidden_layer2 (Dense)        (None, 256)               65792     \n",
      "_________________________________________________________________\n",
      "batch_normalization_5 (Batch (None, 256)               1024      \n",
      "_________________________________________________________________\n",
      "hidden_layer3 (Dense)        (None, 256)               65792     \n",
      "_________________________________________________________________\n",
      "batch_normalization_6 (Batch (None, 256)               1024      \n",
      "_________________________________________________________________\n",
      "output (Dense)               (None, 10)                2570      \n",
      "=================================================================\n",
      "Total params: 923,914\n",
      "Trainable params: 922,378\n",
      "Non-trainable params: 1,536\n",
      "_________________________________________________________________\n",
      "Train on 50000 samples, validate on 10000 samples\n",
      "Epoch 1/25\n",
      "50000/50000 [==============================] - 6s 119us/step - loss: 2.2639 - accuracy: 0.2554 - val_loss: 2.1826 - val_accuracy: 0.2229\n",
      "Epoch 2/25\n",
      "50000/50000 [==============================] - 4s 85us/step - loss: 1.7770 - accuracy: 0.3811 - val_loss: 2.0230 - val_accuracy: 0.2858\n",
      "Epoch 3/25\n",
      "50000/50000 [==============================] - 4s 81us/step - loss: 1.6440 - accuracy: 0.4237 - val_loss: 1.8597 - val_accuracy: 0.3597\n",
      "Epoch 4/25\n",
      "50000/50000 [==============================] - 4s 87us/step - loss: 1.5701 - accuracy: 0.4491 - val_loss: 1.7339 - val_accuracy: 0.4024\n",
      "Epoch 5/25\n",
      "50000/50000 [==============================] - 4s 85us/step - loss: 1.5128 - accuracy: 0.4681 - val_loss: 1.6378 - val_accuracy: 0.4244\n",
      "Epoch 6/25\n",
      "50000/50000 [==============================] - 4s 83us/step - loss: 1.4688 - accuracy: 0.4851 - val_loss: 1.5819 - val_accuracy: 0.4433\n",
      "Epoch 7/25\n",
      "50000/50000 [==============================] - 4s 84us/step - loss: 1.4319 - accuracy: 0.4982 - val_loss: 1.5575 - val_accuracy: 0.4472\n",
      "Epoch 8/25\n",
      "50000/50000 [==============================] - 4s 87us/step - loss: 1.3977 - accuracy: 0.5113 - val_loss: 1.5331 - val_accuracy: 0.4550\n",
      "Epoch 9/25\n",
      "50000/50000 [==============================] - 4s 88us/step - loss: 1.3692 - accuracy: 0.5208 - val_loss: 1.5026 - val_accuracy: 0.4662\n",
      "Epoch 10/25\n",
      "50000/50000 [==============================] - 5s 92us/step - loss: 1.3411 - accuracy: 0.5303 - val_loss: 1.5079 - val_accuracy: 0.4652\n",
      "Epoch 11/25\n",
      "50000/50000 [==============================] - 4s 89us/step - loss: 1.3151 - accuracy: 0.5398 - val_loss: 1.4859 - val_accuracy: 0.4719\n",
      "Epoch 12/25\n",
      "50000/50000 [==============================] - 5s 92us/step - loss: 1.2931 - accuracy: 0.5501 - val_loss: 1.4871 - val_accuracy: 0.4721\n",
      "Epoch 13/25\n",
      "50000/50000 [==============================] - 5s 106us/step - loss: 1.2700 - accuracy: 0.5568 - val_loss: 1.4910 - val_accuracy: 0.4720\n",
      "Epoch 14/25\n",
      "50000/50000 [==============================] - 5s 94us/step - loss: 1.2486 - accuracy: 0.5665 - val_loss: 1.4693 - val_accuracy: 0.4835\n",
      "Epoch 15/25\n",
      "50000/50000 [==============================] - 4s 88us/step - loss: 1.2270 - accuracy: 0.5739 - val_loss: 1.4652 - val_accuracy: 0.4832\n",
      "Epoch 16/25\n",
      "50000/50000 [==============================] - 5s 99us/step - loss: 1.2071 - accuracy: 0.5811 - val_loss: 1.4504 - val_accuracy: 0.4879\n",
      "Epoch 17/25\n",
      "50000/50000 [==============================] - 4s 90us/step - loss: 1.1878 - accuracy: 0.5906 - val_loss: 1.4622 - val_accuracy: 0.4828\n",
      "Epoch 18/25\n",
      "50000/50000 [==============================] - 5s 91us/step - loss: 1.1696 - accuracy: 0.5965 - val_loss: 1.4523 - val_accuracy: 0.4889\n",
      "Epoch 19/25\n",
      "50000/50000 [==============================] - 4s 83us/step - loss: 1.1503 - accuracy: 0.6026 - val_loss: 1.4422 - val_accuracy: 0.4915\n",
      "Epoch 20/25\n",
      "50000/50000 [==============================] - 4s 83us/step - loss: 1.1310 - accuracy: 0.6113 - val_loss: 1.4501 - val_accuracy: 0.4883\n",
      "Epoch 21/25\n",
      "50000/50000 [==============================] - 4s 82us/step - loss: 1.1120 - accuracy: 0.6179 - val_loss: 1.4587 - val_accuracy: 0.4879\n",
      "Epoch 22/25\n",
      "50000/50000 [==============================] - 4s 83us/step - loss: 1.0963 - accuracy: 0.6247 - val_loss: 1.4539 - val_accuracy: 0.4901\n",
      "Epoch 23/25\n",
      "50000/50000 [==============================] - 4s 82us/step - loss: 1.0815 - accuracy: 0.6291 - val_loss: 1.4487 - val_accuracy: 0.4942\n",
      "Epoch 24/25\n",
      "50000/50000 [==============================] - 4s 81us/step - loss: 1.0627 - accuracy: 0.6389 - val_loss: 1.4512 - val_accuracy: 0.4928\n",
      "Epoch 25/25\n",
      "50000/50000 [==============================] - 4s 84us/step - loss: 1.0469 - accuracy: 0.6428 - val_loss: 1.4511 - val_accuracy: 0.4925\n"
     ]
    }
   ],
   "source": [
    "model = build_mlp(input_shape=x_train.shape[1:])\n",
    "model.summary()\n",
    "optimizer = keras.optimizers.SGD(lr=LEARNING_RATE, nesterov=True, momentum=MOMENTUM)\n",
    "model.compile(loss=\"categorical_crossentropy\", metrics=[\"accuracy\"], optimizer=optimizer)\n",
    "\n",
    "\"\"\"Code Here\n",
    "將 callbacks 放入模型訓練流程中\n",
    "\"\"\"\n",
    "model.fit(x_train, y_train, \n",
    "          epochs=EPOCHS, \n",
    "          batch_size=BATCH_SIZE, \n",
    "          validation_data=(x_test, y_test), \n",
    "          shuffle=True,\n",
    "          callbacks=[rec_tptn])\n",
    "\n",
    "# Collect results\n",
    "train_loss = model.history.history[\"loss\"]\n",
    "valid_loss = model.history.history[\"val_loss\"]\n",
    "train_acc = model.history.history[\"accuracy\"]\n",
    "valid_acc = model.history.history[\"val_accuracy\"]\n",
    "\n",
    "\"\"\"Code Here\n",
    "將 tp/tn 從訓練完的模型中取出\n",
    "\"\"\"\n",
    "valid_tp = model.history.history[\"val_tp\"]\n",
    "valid_tn = model.history.history[\"val_tn\"]"
   ]
  },
  {
   "cell_type": "code",
   "execution_count": 10,
   "metadata": {},
   "outputs": [
    {
     "data": {
      "image/png": "[encoded data removed]",
      "text/plain": [
       "<Figure size 432x288 with 1 Axes>"
      ]
     },
     "metadata": {
      "needs_background": "light"
     },
     "output_type": "display_data"
    },
    {
     "data": {
      "image/png": "[encoded data removed]",
      "text/plain": [
       "<Figure size 432x288 with 1 Axes>"
      ]
     },
     "metadata": {
      "needs_background": "light"
     },
     "output_type": "display_data"
    },
    {
     "data": {
      "image/png": "[encoded data removed]",
      "text/plain": [
       "<Figure size 432x288 with 1 Axes>"
      ]
     },
     "metadata": {
      "needs_background": "light"
     },
     "output_type": "display_data"
    }
   ],
   "source": [
    "import matplotlib.pyplot as plt\n",
    "%matplotlib inline\n",
    "\n",
    "plt.plot(range(len(train_loss)), train_loss, label=\"train loss\")\n",
    "plt.plot(range(len(valid_loss)), valid_loss, label=\"valid loss\")\n",
    "plt.legend()\n",
    "plt.title(\"Loss\")\n",
    "plt.show()\n",
    "\n",
    "plt.plot(range(len(train_acc)), train_acc, label=\"train accuracy\")\n",
    "plt.plot(range(len(valid_acc)), valid_acc, label=\"valid accuracy\")\n",
    "plt.legend()\n",
    "plt.title(\"Accuracy\")\n",
    "plt.show()\n",
    "\n",
    "plt.plot(range(len(valid_tp)), valid_tp, label=\"valid tp\", color=\"navy\")\n",
    "plt.plot(range(len(valid_tn)), valid_tn, label=\"valid tn\", color=\"red\")\n",
    "plt.legend()\n",
    "plt.title(\"True positives and True Negatives\")\n",
    "plt.show()\n"
   ]
  },
  {
   "cell_type": "code",
   "execution_count": null,
   "metadata": {},
   "outputs": [],
   "source": []
  }
 ],
 "metadata": {
  "kernelspec": {
   "display_name": "Python 3",
   "language": "python",
   "name": "python3"
  },
  "language_info": {
   "codemirror_mode": {
    "name": "ipython",
    "version": 3
   },
   "file_extension": ".py",
   "mimetype": "text/x-python",
   "name": "python",
   "nbconvert_exporter": "python",
   "pygments_lexer": "ipython3",
   "version": "3.7.6"
  }
 },
 "nbformat": 4,
 "nbformat_minor": 2
}
