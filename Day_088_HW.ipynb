{
 "cells": [
  {
   "cell_type": "markdown",
   "metadata": {},
   "source": [
    "## Work\n",
    "1. 請嘗試寫一個 callback 用來記錄各類別在訓練過程中，對驗證集的 True Positive 與 True Negative"
   ]
  },
  {
   "cell_type": "code",
   "execution_count": 1,
   "metadata": {},
   "outputs": [
    {
     "name": "stderr",
     "output_type": "stream",
     "text": [
      "Using TensorFlow backend.\n"
     ]
    }
   ],
   "source": [
    "import os\n",
    "import keras\n",
    "\n",
    "# Disable GPU\n",
    "os.environ[\"CUDA_VISIBLE_DEVICES\"] = \"\""
   ]
  },
  {
   "cell_type": "code",
   "execution_count": 2,
   "metadata": {},
   "outputs": [],
   "source": [
    "train, test = keras.datasets.cifar10.load_data()"
   ]
  },
  {
   "cell_type": "code",
   "execution_count": 3,
   "metadata": {},
   "outputs": [],
   "source": [
    "## 資料前處理\n",
    "def preproc_x(x, flatten=True):\n",
    "    x = x / 255.\n",
    "    if flatten:\n",
    "        x = x.reshape((len(x), -1))\n",
    "    return x\n",
    "\n",
    "def preproc_y(y, num_classes=10):\n",
    "    if y.shape[-1] == 1:\n",
    "        y = keras.utils.to_categorical(y, num_classes)\n",
    "    return y    "
   ]
  },
  {
   "cell_type": "code",
   "execution_count": 4,
   "metadata": {},
   "outputs": [],
   "source": [
    "x_train, y_train = train\n",
    "x_test, y_test = test\n",
    "\n",
    "# Preproc the inputs\n",
    "x_train = preproc_x(x_train)\n",
    "x_test = preproc_x(x_test)\n",
    "\n",
    "# Preprc the outputs\n",
    "y_train = preproc_y(y_train)\n",
    "y_test = preproc_y(y_test)"
   ]
  },
  {
   "cell_type": "code",
   "execution_count": 5,
   "metadata": {},
   "outputs": [],
   "source": [
    "from keras.layers import BatchNormalization\n",
    "def build_mlp(input_shape, output_units=10, num_neurons=[256, 256, 256]):\n",
    "    \"\"\"Code Here\n",
    "    建立你的神經網路\n",
    "    \"\"\"\n",
    "    input_layer = keras.layers.Input(input_shape)\n",
    "    \n",
    "    for i, n_units in enumerate(num_neurons):\n",
    "        if i == 0:\n",
    "            x = keras.layers.Dense(units=n_units, \n",
    "                                   activation=\"relu\", \n",
    "                                   name=\"hidden_layer\"+str(i+1))(input_layer)\n",
    "            x = BatchNormalization()(x)\n",
    "        else:\n",
    "            x = keras.layers.Dense(units=n_units, \n",
    "                                   activation=\"relu\", \n",
    "                                   name=\"hidden_layer\"+str(i+1))(x)\n",
    "            x = BatchNormalization()(x)\n",
    "    \n",
    "    out = keras.layers.Dense(units=output_units, activation=\"softmax\", name=\"output\")(x)\n",
    "    \n",
    "    model = keras.models.Model(inputs=[input_layer], outputs=[out])\n",
    "    return model"
   ]
  },
  {
   "cell_type": "code",
   "execution_count": 6,
   "metadata": {},
   "outputs": [],
   "source": [
    "## 超參數設定\n",
    "LEARNING_RATE = 1e-3\n",
    "EPOCHS = 25\n",
    "BATCH_SIZE = 1024\n",
    "MOMENTUM = 0.95"
   ]
  },
  {
   "cell_type": "code",
   "execution_count": 7,
   "metadata": {},
   "outputs": [],
   "source": [
    "# 載入 Callbacks\n",
    "from keras.callbacks import Callback\n",
    "\n",
    "# Record_fp_tp\n",
    "class Record_tp_tn(Callback):\n",
    "    \"\"\"Code Here\n",
    "    撰寫一個紀錄 ture positive 與 true negative 數量的 callbacks    \n",
    "    \"\"\"\n",
    "    def on_train_begin(self, epoch, logs = {}):\n",
    "        logs = logs or {}\n",
    "        record_items = [\"val_auc\", \"val_f1sc\", \"val_fp\", \"val_fn\", \"val_tp\", \"val_tn\"]\n",
    "        for i in record_items:\n",
    "            if i not in self.params['metrics']:\n",
    "                self.params['metrics'].append(i)\n",
    "    \n",
    "    def on_epoch_end(self, epoch, logs = {}, thres=0.5):\n",
    "        logs = logs or {}\n",
    "        y_true = self.validation_data[1].argmax(axis = 1)\n",
    "        y_pred = self.model.predict(self.validation_data[0])\n",
    "        y_pred = (y_pred[:, 1] >= thres) * 1\n",
    "        \n",
    "        tp = sum(y_true * y_pred)\n",
    "        tn = sum((y_true==0) & (y_pred==0))\n",
    "        \n",
    "        logs[\"val_tp\"] = tp\n",
    "        logs[\"val_tn\"] = tn\n",
    "        \n",
    "rec_tptn = Record_tp_tn()"
   ]
  },
  {
   "cell_type": "code",
   "execution_count": 8,
   "metadata": {
    "scrolled": true
   },
   "outputs": [
    {
     "name": "stdout",
     "output_type": "stream",
     "text": [
      "Model: \"model_1\"\n",
      "_________________________________________________________________\n",
      "Layer (type)                 Output Shape              Param #   \n",
      "=================================================================\n",
      "input_1 (InputLayer)         (None, 3072)              0         \n",
      "_________________________________________________________________\n",
      "hidden_layer1 (Dense)        (None, 256)               786688    \n",
      "_________________________________________________________________\n",
      "batch_normalization_1 (Batch (None, 256)               1024      \n",
      "_________________________________________________________________\n",
      "hidden_layer2 (Dense)        (None, 256)               65792     \n",
      "_________________________________________________________________\n",
      "batch_normalization_2 (Batch (None, 256)               1024      \n",
      "_________________________________________________________________\n",
      "hidden_layer3 (Dense)        (None, 256)               65792     \n",
      "_________________________________________________________________\n",
      "batch_normalization_3 (Batch (None, 256)               1024      \n",
      "_________________________________________________________________\n",
      "output (Dense)               (None, 10)                2570      \n",
      "=================================================================\n",
      "Total params: 923,914\n",
      "Trainable params: 922,378\n",
      "Non-trainable params: 1,536\n",
      "_________________________________________________________________\n",
      "Train on 50000 samples, validate on 10000 samples\n",
      "Epoch 1/25\n",
      "50000/50000 [==============================] - 7s 133us/step - loss: 2.2699 - accuracy: 0.2602 - val_loss: 2.1474 - val_accuracy: 0.2144\n",
      "Epoch 2/25\n",
      "50000/50000 [==============================] - 5s 95us/step - loss: 1.7656 - accuracy: 0.3865 - val_loss: 1.9926 - val_accuracy: 0.2997\n",
      "Epoch 3/25\n",
      "50000/50000 [==============================] - 4s 89us/step - loss: 1.6316 - accuracy: 0.4288 - val_loss: 1.8382 - val_accuracy: 0.3662\n",
      "Epoch 4/25\n",
      "50000/50000 [==============================] - 5s 91us/step - loss: 1.5554 - accuracy: 0.4530 - val_loss: 1.7328 - val_accuracy: 0.4016\n",
      "Epoch 5/25\n",
      "50000/50000 [==============================] - 5s 91us/step - loss: 1.5025 - accuracy: 0.4737 - val_loss: 1.6424 - val_accuracy: 0.4268\n",
      "Epoch 6/25\n",
      "50000/50000 [==============================] - 5s 95us/step - loss: 1.4566 - accuracy: 0.4881 - val_loss: 1.5815 - val_accuracy: 0.4439\n",
      "Epoch 7/25\n",
      "50000/50000 [==============================] - 5s 94us/step - loss: 1.4204 - accuracy: 0.5001 - val_loss: 1.5637 - val_accuracy: 0.4473\n",
      "Epoch 8/25\n",
      "50000/50000 [==============================] - 5s 94us/step - loss: 1.3862 - accuracy: 0.5139 - val_loss: 1.5385 - val_accuracy: 0.4562\n",
      "Epoch 9/25\n",
      "50000/50000 [==============================] - 5s 96us/step - loss: 1.3567 - accuracy: 0.5239 - val_loss: 1.5145 - val_accuracy: 0.4587\n",
      "Epoch 10/25\n",
      "50000/50000 [==============================] - 5s 95us/step - loss: 1.3288 - accuracy: 0.5342 - val_loss: 1.4908 - val_accuracy: 0.4771\n",
      "Epoch 11/25\n",
      "50000/50000 [==============================] - 5s 95us/step - loss: 1.3030 - accuracy: 0.5444 - val_loss: 1.4947 - val_accuracy: 0.4739\n",
      "Epoch 12/25\n",
      "50000/50000 [==============================] - 5s 94us/step - loss: 1.2783 - accuracy: 0.5546 - val_loss: 1.4775 - val_accuracy: 0.4797\n",
      "Epoch 13/25\n",
      "50000/50000 [==============================] - 5s 94us/step - loss: 1.2568 - accuracy: 0.5602 - val_loss: 1.4760 - val_accuracy: 0.4795\n",
      "Epoch 14/25\n",
      "50000/50000 [==============================] - 5s 95us/step - loss: 1.2339 - accuracy: 0.5707 - val_loss: 1.4690 - val_accuracy: 0.4809\n",
      "Epoch 15/25\n",
      "50000/50000 [==============================] - 5s 94us/step - loss: 1.2128 - accuracy: 0.5772 - val_loss: 1.4656 - val_accuracy: 0.4866\n",
      "Epoch 16/25\n",
      "50000/50000 [==============================] - 5s 95us/step - loss: 1.1938 - accuracy: 0.5848 - val_loss: 1.4554 - val_accuracy: 0.4880\n",
      "Epoch 17/25\n",
      "50000/50000 [==============================] - 5s 92us/step - loss: 1.1744 - accuracy: 0.5931 - val_loss: 1.4586 - val_accuracy: 0.4896\n",
      "Epoch 18/25\n",
      "50000/50000 [==============================] - 5s 93us/step - loss: 1.1566 - accuracy: 0.5983 - val_loss: 1.4645 - val_accuracy: 0.4842\n",
      "Epoch 19/25\n",
      "50000/50000 [==============================] - 5s 93us/step - loss: 1.1368 - accuracy: 0.6065 - val_loss: 1.4467 - val_accuracy: 0.4928\n",
      "Epoch 20/25\n",
      "50000/50000 [==============================] - 5s 92us/step - loss: 1.1181 - accuracy: 0.6142 - val_loss: 1.4527 - val_accuracy: 0.4886\n",
      "Epoch 21/25\n",
      "50000/50000 [==============================] - 5s 96us/step - loss: 1.1011 - accuracy: 0.6196 - val_loss: 1.4471 - val_accuracy: 0.4936\n",
      "Epoch 22/25\n",
      "50000/50000 [==============================] - 5s 91us/step - loss: 1.0847 - accuracy: 0.6261 - val_loss: 1.4489 - val_accuracy: 0.4913\n",
      "Epoch 23/25\n",
      "50000/50000 [==============================] - 5s 92us/step - loss: 1.0677 - accuracy: 0.6345 - val_loss: 1.4413 - val_accuracy: 0.4946\n",
      "Epoch 24/25\n",
      "50000/50000 [==============================] - 5s 90us/step - loss: 1.0503 - accuracy: 0.6395 - val_loss: 1.4430 - val_accuracy: 0.4960\n",
      "Epoch 25/25\n",
      "50000/50000 [==============================] - 5s 92us/step - loss: 1.0347 - accuracy: 0.6464 - val_loss: 1.4485 - val_accuracy: 0.4954\n"
     ]
    }
   ],
   "source": [
    "model = build_mlp(input_shape=x_train.shape[1:])\n",
    "model.summary()\n",
    "optimizer = keras.optimizers.SGD(lr=LEARNING_RATE, nesterov=True, momentum=MOMENTUM)\n",
    "model.compile(loss=\"categorical_crossentropy\", metrics=[\"accuracy\"], optimizer=optimizer)\n",
    "\n",
    "\"\"\"Code Here\n",
    "將 callbacks 放入模型訓練流程中\n",
    "\"\"\"\n",
    "model.fit(x_train, y_train, \n",
    "          epochs=EPOCHS, \n",
    "          batch_size=BATCH_SIZE, \n",
    "          validation_data=(x_test, y_test), \n",
    "          shuffle=True,\n",
    "          callbacks=[rec_tptn])\n",
    "\n",
    "# Collect results\n",
    "train_loss = model.history.history[\"loss\"]\n",
    "valid_loss = model.history.history[\"val_loss\"]\n",
    "train_acc = model.history.history[\"accuracy\"]\n",
    "valid_acc = model.history.history[\"val_accuracy\"]\n",
    "\n",
    "\"\"\"Code Here\n",
    "將 tp/tn 從訓練完的模型中取出\n",
    "\"\"\"\n",
    "valid_tp = model.history.history[\"val_tp\"]\n",
    "valid_tn = model.history.history[\"val_tn\"]"
   ]
  },
  {
   "cell_type": "code",
   "execution_count": 9,
   "metadata": {},
   "outputs": [
    {
     "data": {
      "image/png": "[encoded data removed]",
      "text/plain": [
       "<Figure size 432x288 with 1 Axes>"
      ]
     },
     "metadata": {
      "needs_background": "light"
     },
     "output_type": "display_data"
    },
    {
     "data": {
      "image/png": "[encoded data removed]",
      "text/plain": [
       "<Figure size 432x288 with 1 Axes>"
      ]
     },
     "metadata": {
      "needs_background": "light"
     },
     "output_type": "display_data"
    },
    {
     "data": {
      "image/png": "[encoded data removed]",
      "text/plain": [
       "<Figure size 432x288 with 1 Axes>"
      ]
     },
     "metadata": {
      "needs_background": "light"
     },
     "output_type": "display_data"
    }
   ],
   "source": [
    "import matplotlib.pyplot as plt\n",
    "%matplotlib inline\n",
    "\n",
    "plt.plot(range(len(train_loss)), train_loss, label=\"train loss\")\n",
    "plt.plot(range(len(valid_loss)), valid_loss, label=\"valid loss\")\n",
    "plt.legend()\n",
    "plt.title(\"Loss\")\n",
    "plt.show()\n",
    "\n",
    "plt.plot(range(len(train_acc)), train_acc, label=\"train accuracy\")\n",
    "plt.plot(range(len(valid_acc)), valid_acc, label=\"valid accuracy\")\n",
    "plt.legend()\n",
    "plt.title(\"Accuracy\")\n",
    "plt.show()\n",
    "\n",
    "plt.plot(range(len(valid_tp)), valid_tp, label=\"valid tp\", color=\"navy\")\n",
    "plt.plot(range(len(valid_tn)), valid_tn, label=\"valid tn\", color=\"red\")\n",
    "plt.legend()\n",
    "plt.title(\"True positives and True Negatives\")\n",
    "plt.show()\n"
   ]
  },
  {
   "cell_type": "code",
   "execution_count": null,
   "metadata": {},
   "outputs": [],
   "source": []
  }
 ],
 "metadata": {
  "kernelspec": {
   "display_name": "Python 3",
   "language": "python",
   "name": "python3"
  },
  "language_info": {
   "codemirror_mode": {
    "name": "ipython",
    "version": 3
   },
   "file_extension": ".py",
   "mimetype": "text/x-python",
   "name": "python",
   "nbconvert_exporter": "python",
   "pygments_lexer": "ipython3",
   "version": "3.7.6"
  }
 },
 "nbformat": 4,
 "nbformat_minor": 2
}
