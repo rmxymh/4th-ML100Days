{
 "cells": [
  {
   "cell_type": "markdown",
   "metadata": {},
   "source": [
    "# 作業\n",
    "* 試著想想看, 非監督學習是否有可能使用評價函數 (Metric) 來鑑別好壞呢?  \n",
    "(Hint : 可以分為 \"有目標值\" 與 \"無目標值\" 兩個方向思考)"
   ]
  },
  {
   "cell_type": "markdown",
   "metadata": {
    "collapsed": true
   },
   "source": [
    "### ANS ###\n",
    "覺得應該是有可能。\n",
    "在有目標值的狀況下能夠以Evaluation Metrics來評鑑，可以做的大概就類似數值的差距、正確性多高，因為目標值本身有對答案的意思在。\n",
    "但沒有目標值的狀況下感覺起來不太像有，就算有的話也只能當參考標的，比較像是自己人眼觀察之後給個標的，盡可能追求到逼近這個標的的模型，但是這不代表在有新的資料進來的時候預測能夠準確。所以個人覺得比較像應該去反過來去探討 `是學習到了什麼樣的東西才導致有這樣的結果`，會比較容易幫助了解整體的狀況。"
   ]
  },
  {
   "cell_type": "code",
   "execution_count": null,
   "metadata": {},
   "outputs": [],
   "source": []
  }
 ],
 "metadata": {
  "kernelspec": {
   "display_name": "Python 3",
   "language": "python",
   "name": "python3"
  },
  "language_info": {
   "codemirror_mode": {
    "name": "ipython",
    "version": 3
   },
   "file_extension": ".py",
   "mimetype": "text/x-python",
   "name": "python",
   "nbconvert_exporter": "python",
   "pygments_lexer": "ipython3",
   "version": "3.7.6"
  }
 },
 "nbformat": 4,
 "nbformat_minor": 1
}
