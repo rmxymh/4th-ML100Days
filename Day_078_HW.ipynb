{
 "cells": [
  {
   "cell_type": "markdown",
   "metadata": {},
   "source": [
    "## Work\n",
    "1. 請嘗試將 preproc_x 替換成以每筆資料的 min/max 進行標準化至 -1 ~ 1 間，再進行訓練\n",
    "2. 請嘗試將 mlp 疊更深 (e.g 5~10 層)，進行訓練後觀察 learning curve 的走勢\n",
    "3. (optional) 請改用 GPU 進行訓練 (如果你有 GPU 的話)，比較使用 CPU 與 GPU 的訓練速度"
   ]
  },
  {
   "cell_type": "code",
   "execution_count": 1,
   "metadata": {},
   "outputs": [
    {
     "data": {
      "text/plain": [
       "'\\nYour code here (optional)\\n確認硬體資源\\n'"
      ]
     },
     "execution_count": 1,
     "metadata": {},
     "output_type": "execute_result"
    }
   ],
   "source": [
    "## \n",
    "\"\"\"\n",
    "Your code here (optional)\n",
    "確認硬體資源\n",
    "\"\"\"\n"
   ]
  },
  {
   "cell_type": "code",
   "execution_count": 2,
   "metadata": {},
   "outputs": [
    {
     "name": "stderr",
     "output_type": "stream",
     "text": [
      "Using TensorFlow backend.\n"
     ]
    }
   ],
   "source": [
    "import os\n",
    "import keras\n",
    "\n",
    "# 請嘗試設定 GPU：os.environ\n"
   ]
  },
  {
   "cell_type": "code",
   "execution_count": 3,
   "metadata": {},
   "outputs": [],
   "source": [
    "train, test = keras.datasets.cifar10.load_data()"
   ]
  },
  {
   "cell_type": "code",
   "execution_count": 4,
   "metadata": {},
   "outputs": [],
   "source": [
    "import numpy as np\n",
    "## 資料前處理\n",
    "\"\"\"\n",
    "Your code here\n",
    "\"\"\"\n",
    "def preproc_x(x):\n",
    "    x = (x - np.min(x)) * 2.0 / (np.max(x) - np.min(x)) - 1.0\n",
    "    x = x.reshape((len(x), -1))\n",
    "    return x\n",
    "    \n",
    "def preproc_y(y, num_classes=10):\n",
    "    if y.shape[-1] == 1:\n",
    "        y = keras.utils.to_categorical(y, num_classes)\n",
    "    return y"
   ]
  },
  {
   "cell_type": "code",
   "execution_count": 5,
   "metadata": {},
   "outputs": [],
   "source": [
    "x_train, y_train = train\n",
    "x_test, y_test = test\n",
    "\n",
    "# Preproc the inputs\n",
    "x_train = preproc_x(x_train)\n",
    "x_test = preproc_x(x_test)\n",
    "\n",
    "# Preprc the outputs\n",
    "y_train = preproc_y(y_train)\n",
    "y_test = preproc_y(y_test)"
   ]
  },
  {
   "cell_type": "code",
   "execution_count": 6,
   "metadata": {},
   "outputs": [
    {
     "name": "stdout",
     "output_type": "stream",
     "text": [
      "Model: \"model_1\"\n",
      "_________________________________________________________________\n",
      "Layer (type)                 Output Shape              Param #   \n",
      "=================================================================\n",
      "input_1 (InputLayer)         (None, 3072)              0         \n",
      "_________________________________________________________________\n",
      "hidden_layer1 (Dense)        (None, 512)               1573376   \n",
      "_________________________________________________________________\n",
      "hidden_layer2 (Dense)        (None, 256)               131328    \n",
      "_________________________________________________________________\n",
      "hidden_layer3 (Dense)        (None, 128)               32896     \n",
      "_________________________________________________________________\n",
      "hidden_layer4 (Dense)        (None, 64)                8256      \n",
      "_________________________________________________________________\n",
      "hidden_layer5 (Dense)        (None, 32)                2080      \n",
      "_________________________________________________________________\n",
      "hidden_layer6 (Dense)        (None, 24)                792       \n",
      "_________________________________________________________________\n",
      "hidden_layer7 (Dense)        (None, 16)                400       \n",
      "_________________________________________________________________\n",
      "output (Dense)               (None, 10)                170       \n",
      "=================================================================\n",
      "Total params: 1,749,298\n",
      "Trainable params: 1,749,298\n",
      "Non-trainable params: 0\n",
      "_________________________________________________________________\n"
     ]
    }
   ],
   "source": [
    "\"\"\"Code Here\n",
    "建立你的神經網路\n",
    "\"\"\"\n",
    "def build_mlp(input_shape, output_units=10, num_neurons=[512, 256, 128, 64, 32, 24, 16]):\n",
    "    input_layer = keras.layers.Input(input_shape)\n",
    "    \n",
    "    for i, n_units in enumerate(num_neurons):\n",
    "        if i == 0:\n",
    "            x = keras.layers.Dense(units=n_units, activation=\"relu\", name=\"hidden_layer\"+str(i+1))(input_layer)\n",
    "        else:\n",
    "            x = keras.layers.Dense(units=n_units, activation=\"relu\", name=\"hidden_layer\"+str(i+1))(x)\n",
    "    \n",
    "    out = keras.layers.Dense(units=output_units, activation=\"softmax\", name=\"output\")(x)\n",
    "    \n",
    "    model = keras.models.Model(inputs=[input_layer], outputs=[out])\n",
    "    return model\n",
    "\n",
    "model = build_mlp(input_shape=x_train.shape[1:])\n",
    "model.summary()"
   ]
  },
  {
   "cell_type": "code",
   "execution_count": 7,
   "metadata": {},
   "outputs": [],
   "source": [
    "## 超參數設定\n",
    "LEARNING_RATE = 0.001\n",
    "EPOCHS = 100\n",
    "BATCH_SIZE = 256"
   ]
  },
  {
   "cell_type": "code",
   "execution_count": 8,
   "metadata": {},
   "outputs": [],
   "source": [
    "optimizer = keras.optimizers.Adam(lr=LEARNING_RATE)\n",
    "model.compile(loss=\"categorical_crossentropy\", metrics=[\"accuracy\"], optimizer=optimizer)"
   ]
  },
  {
   "cell_type": "code",
   "execution_count": 9,
   "metadata": {},
   "outputs": [
    {
     "name": "stdout",
     "output_type": "stream",
     "text": [
      "Train on 50000 samples, validate on 10000 samples\n",
      "Epoch 1/100\n",
      "50000/50000 [==============================] - 8s 166us/step - loss: 1.8741 - accuracy: 0.3327 - val_loss: 1.6561 - val_accuracy: 0.4191\n",
      "Epoch 2/100\n",
      "50000/50000 [==============================] - 8s 157us/step - loss: 1.5871 - accuracy: 0.4385 - val_loss: 1.5278 - val_accuracy: 0.4575\n",
      "Epoch 3/100\n",
      "50000/50000 [==============================] - 8s 165us/step - loss: 1.4534 - accuracy: 0.4870 - val_loss: 1.4390 - val_accuracy: 0.4935\n",
      "Epoch 4/100\n",
      "50000/50000 [==============================] - 8s 158us/step - loss: 1.3527 - accuracy: 0.5238 - val_loss: 1.4395 - val_accuracy: 0.4959\n",
      "Epoch 5/100\n",
      "50000/50000 [==============================] - 8s 155us/step - loss: 1.2629 - accuracy: 0.5566 - val_loss: 1.3907 - val_accuracy: 0.5133\n",
      "Epoch 6/100\n",
      "50000/50000 [==============================] - 8s 160us/step - loss: 1.1844 - accuracy: 0.5866 - val_loss: 1.3961 - val_accuracy: 0.5181\n",
      "Epoch 7/100\n",
      "50000/50000 [==============================] - 8s 159us/step - loss: 1.1096 - accuracy: 0.6099 - val_loss: 1.3684 - val_accuracy: 0.5301\n",
      "Epoch 8/100\n",
      "50000/50000 [==============================] - 8s 159us/step - loss: 1.0397 - accuracy: 0.6323 - val_loss: 1.3831 - val_accuracy: 0.5284\n",
      "Epoch 9/100\n",
      "50000/50000 [==============================] - 8s 159us/step - loss: 0.9700 - accuracy: 0.6598 - val_loss: 1.4161 - val_accuracy: 0.5387\n",
      "Epoch 10/100\n",
      "50000/50000 [==============================] - 8s 160us/step - loss: 0.8999 - accuracy: 0.6820 - val_loss: 1.4221 - val_accuracy: 0.5419\n",
      "Epoch 11/100\n",
      "50000/50000 [==============================] - 8s 156us/step - loss: 0.8446 - accuracy: 0.7028 - val_loss: 1.4908 - val_accuracy: 0.5323\n",
      "Epoch 12/100\n",
      "50000/50000 [==============================] - 8s 158us/step - loss: 0.7776 - accuracy: 0.7258 - val_loss: 1.5109 - val_accuracy: 0.5370\n",
      "Epoch 13/100\n",
      "50000/50000 [==============================] - 8s 157us/step - loss: 0.7284 - accuracy: 0.7415 - val_loss: 1.5458 - val_accuracy: 0.5404\n",
      "Epoch 14/100\n",
      "50000/50000 [==============================] - 8s 157us/step - loss: 0.6631 - accuracy: 0.7655 - val_loss: 1.5980 - val_accuracy: 0.5392\n",
      "Epoch 15/100\n",
      "50000/50000 [==============================] - 8s 159us/step - loss: 0.6172 - accuracy: 0.7828 - val_loss: 1.6704 - val_accuracy: 0.5407\n",
      "Epoch 16/100\n",
      "50000/50000 [==============================] - 8s 158us/step - loss: 0.5579 - accuracy: 0.8028 - val_loss: 1.7644 - val_accuracy: 0.5292\n",
      "Epoch 17/100\n",
      "50000/50000 [==============================] - 8s 161us/step - loss: 0.5198 - accuracy: 0.8154 - val_loss: 1.8521 - val_accuracy: 0.5303\n",
      "Epoch 18/100\n",
      "50000/50000 [==============================] - 8s 156us/step - loss: 0.4812 - accuracy: 0.8298 - val_loss: 1.9754 - val_accuracy: 0.5328\n",
      "Epoch 19/100\n",
      "50000/50000 [==============================] - 8s 156us/step - loss: 0.4489 - accuracy: 0.8424 - val_loss: 2.0228 - val_accuracy: 0.5344\n",
      "Epoch 20/100\n",
      "50000/50000 [==============================] - 8s 157us/step - loss: 0.4123 - accuracy: 0.8551 - val_loss: 2.1039 - val_accuracy: 0.5300\n",
      "Epoch 21/100\n",
      "50000/50000 [==============================] - 8s 155us/step - loss: 0.3821 - accuracy: 0.8658 - val_loss: 2.2331 - val_accuracy: 0.5311\n",
      "Epoch 22/100\n",
      "50000/50000 [==============================] - 8s 156us/step - loss: 0.3563 - accuracy: 0.8751 - val_loss: 2.3199 - val_accuracy: 0.5324\n",
      "Epoch 23/100\n",
      "50000/50000 [==============================] - 8s 157us/step - loss: 0.3387 - accuracy: 0.8808 - val_loss: 2.3600 - val_accuracy: 0.5306\n",
      "Epoch 24/100\n",
      "50000/50000 [==============================] - 8s 156us/step - loss: 0.3233 - accuracy: 0.8866 - val_loss: 2.3996 - val_accuracy: 0.5234\n",
      "Epoch 25/100\n",
      "50000/50000 [==============================] - 8s 159us/step - loss: 0.3034 - accuracy: 0.8924 - val_loss: 2.3928 - val_accuracy: 0.5359\n",
      "Epoch 26/100\n",
      "50000/50000 [==============================] - 8s 160us/step - loss: 0.2671 - accuracy: 0.9084 - val_loss: 2.6392 - val_accuracy: 0.5271\n",
      "Epoch 27/100\n",
      "50000/50000 [==============================] - 9s 181us/step - loss: 0.2589 - accuracy: 0.9098 - val_loss: 2.6908 - val_accuracy: 0.5287\n",
      "Epoch 28/100\n",
      "50000/50000 [==============================] - 9s 175us/step - loss: 0.2638 - accuracy: 0.9090 - val_loss: 2.6027 - val_accuracy: 0.5264\n",
      "Epoch 29/100\n",
      "50000/50000 [==============================] - 9s 170us/step - loss: 0.2346 - accuracy: 0.9185 - val_loss: 2.7836 - val_accuracy: 0.5275\n",
      "Epoch 30/100\n",
      "50000/50000 [==============================] - 9s 175us/step - loss: 0.2254 - accuracy: 0.9221 - val_loss: 2.8590 - val_accuracy: 0.5282\n",
      "Epoch 31/100\n",
      "50000/50000 [==============================] - 9s 171us/step - loss: 0.2197 - accuracy: 0.9239 - val_loss: 2.8107 - val_accuracy: 0.5438\n",
      "Epoch 32/100\n",
      "50000/50000 [==============================] - 9s 170us/step - loss: 0.2000 - accuracy: 0.9312 - val_loss: 2.9868 - val_accuracy: 0.5222\n",
      "Epoch 33/100\n",
      "50000/50000 [==============================] - 8s 165us/step - loss: 0.2164 - accuracy: 0.9253 - val_loss: 2.9404 - val_accuracy: 0.5233\n",
      "Epoch 34/100\n",
      "50000/50000 [==============================] - 8s 161us/step - loss: 0.1918 - accuracy: 0.9337 - val_loss: 3.1697 - val_accuracy: 0.5188\n",
      "Epoch 35/100\n",
      "50000/50000 [==============================] - 9s 172us/step - loss: 0.1843 - accuracy: 0.9379 - val_loss: 3.1038 - val_accuracy: 0.5266\n",
      "Epoch 36/100\n",
      "50000/50000 [==============================] - 8s 170us/step - loss: 0.1647 - accuracy: 0.9431 - val_loss: 3.3321 - val_accuracy: 0.5293\n",
      "Epoch 37/100\n",
      "50000/50000 [==============================] - 8s 167us/step - loss: 0.1840 - accuracy: 0.9371 - val_loss: 3.2039 - val_accuracy: 0.5304\n",
      "Epoch 38/100\n",
      "50000/50000 [==============================] - 8s 166us/step - loss: 0.1632 - accuracy: 0.9438 - val_loss: 3.2478 - val_accuracy: 0.5344\n",
      "Epoch 39/100\n",
      "50000/50000 [==============================] - 8s 165us/step - loss: 0.1688 - accuracy: 0.9409 - val_loss: 3.4371 - val_accuracy: 0.5329\n",
      "Epoch 40/100\n",
      "50000/50000 [==============================] - 8s 163us/step - loss: 0.1594 - accuracy: 0.9472 - val_loss: 3.2532 - val_accuracy: 0.5324\n",
      "Epoch 41/100\n",
      "50000/50000 [==============================] - 8s 166us/step - loss: 0.1554 - accuracy: 0.9474 - val_loss: 3.3628 - val_accuracy: 0.5303\n",
      "Epoch 42/100\n",
      "50000/50000 [==============================] - 8s 166us/step - loss: 0.1500 - accuracy: 0.9488 - val_loss: 3.4177 - val_accuracy: 0.5304\n",
      "Epoch 43/100\n",
      "50000/50000 [==============================] - 8s 168us/step - loss: 0.1422 - accuracy: 0.9517 - val_loss: 3.4654 - val_accuracy: 0.5270\n",
      "Epoch 44/100\n",
      "50000/50000 [==============================] - 8s 170us/step - loss: 0.1493 - accuracy: 0.9503 - val_loss: 3.4868 - val_accuracy: 0.5226\n",
      "Epoch 45/100\n",
      "50000/50000 [==============================] - 8s 166us/step - loss: 0.1491 - accuracy: 0.9507 - val_loss: 3.4015 - val_accuracy: 0.5252\n",
      "Epoch 46/100\n",
      "50000/50000 [==============================] - 8s 160us/step - loss: 0.1377 - accuracy: 0.9542 - val_loss: 3.5328 - val_accuracy: 0.5268\n",
      "Epoch 47/100\n",
      "50000/50000 [==============================] - 8s 160us/step - loss: 0.1200 - accuracy: 0.9604 - val_loss: 3.6814 - val_accuracy: 0.5266\n",
      "Epoch 48/100\n",
      "50000/50000 [==============================] - 8s 164us/step - loss: 0.1295 - accuracy: 0.9566 - val_loss: 3.5986 - val_accuracy: 0.5223\n",
      "Epoch 49/100\n",
      "50000/50000 [==============================] - 8s 168us/step - loss: 0.1299 - accuracy: 0.9562 - val_loss: 3.5547 - val_accuracy: 0.5277\n",
      "Epoch 50/100\n",
      "50000/50000 [==============================] - 8s 166us/step - loss: 0.1278 - accuracy: 0.9582 - val_loss: 3.5216 - val_accuracy: 0.5348\n",
      "Epoch 51/100\n",
      "50000/50000 [==============================] - 9s 171us/step - loss: 0.1199 - accuracy: 0.9604 - val_loss: 3.6601 - val_accuracy: 0.5271\n",
      "Epoch 52/100\n",
      "50000/50000 [==============================] - 9s 171us/step - loss: 0.1334 - accuracy: 0.9553 - val_loss: 3.6684 - val_accuracy: 0.5259\n",
      "Epoch 53/100\n",
      "50000/50000 [==============================] - 8s 167us/step - loss: 0.1002 - accuracy: 0.9663 - val_loss: 3.7559 - val_accuracy: 0.5249\n",
      "Epoch 54/100\n",
      "50000/50000 [==============================] - 8s 167us/step - loss: 0.1063 - accuracy: 0.9643 - val_loss: 3.9408 - val_accuracy: 0.5355\n",
      "Epoch 55/100\n"
     ]
    },
    {
     "name": "stdout",
     "output_type": "stream",
     "text": [
      "50000/50000 [==============================] - 8s 167us/step - loss: 0.1372 - accuracy: 0.9555 - val_loss: 3.6120 - val_accuracy: 0.5299\n",
      "Epoch 56/100\n",
      "50000/50000 [==============================] - 8s 169us/step - loss: 0.1145 - accuracy: 0.9620 - val_loss: 3.6092 - val_accuracy: 0.5249\n",
      "Epoch 57/100\n",
      "50000/50000 [==============================] - 8s 158us/step - loss: 0.1034 - accuracy: 0.9651 - val_loss: 3.8613 - val_accuracy: 0.5306\n",
      "Epoch 58/100\n",
      "50000/50000 [==============================] - 8s 162us/step - loss: 0.1096 - accuracy: 0.9640 - val_loss: 3.7755 - val_accuracy: 0.5292\n",
      "Epoch 59/100\n",
      "50000/50000 [==============================] - 8s 161us/step - loss: 0.1046 - accuracy: 0.9646 - val_loss: 3.7749 - val_accuracy: 0.5379\n",
      "Epoch 60/100\n",
      "50000/50000 [==============================] - 8s 164us/step - loss: 0.1006 - accuracy: 0.9668 - val_loss: 3.9015 - val_accuracy: 0.5335\n",
      "Epoch 61/100\n",
      "50000/50000 [==============================] - 8s 164us/step - loss: 0.1166 - accuracy: 0.9622 - val_loss: 3.8247 - val_accuracy: 0.5293\n",
      "Epoch 62/100\n",
      "50000/50000 [==============================] - 8s 163us/step - loss: 0.1076 - accuracy: 0.9638 - val_loss: 3.8628 - val_accuracy: 0.5321\n",
      "Epoch 63/100\n",
      "50000/50000 [==============================] - 8s 168us/step - loss: 0.0837 - accuracy: 0.9724 - val_loss: 4.1083 - val_accuracy: 0.5280\n",
      "Epoch 64/100\n",
      "50000/50000 [==============================] - 8s 165us/step - loss: 0.0921 - accuracy: 0.9695 - val_loss: 3.8017 - val_accuracy: 0.5234\n",
      "Epoch 65/100\n",
      "50000/50000 [==============================] - 8s 162us/step - loss: 0.1007 - accuracy: 0.9668 - val_loss: 3.9597 - val_accuracy: 0.5305\n",
      "Epoch 66/100\n",
      "50000/50000 [==============================] - 8s 161us/step - loss: 0.0878 - accuracy: 0.9713 - val_loss: 3.9655 - val_accuracy: 0.5268\n",
      "Epoch 67/100\n",
      "50000/50000 [==============================] - 8s 168us/step - loss: 0.0906 - accuracy: 0.9707 - val_loss: 4.0863 - val_accuracy: 0.5223\n",
      "Epoch 68/100\n",
      "50000/50000 [==============================] - 9s 174us/step - loss: 0.0956 - accuracy: 0.9681 - val_loss: 3.8863 - val_accuracy: 0.5306\n",
      "Epoch 69/100\n",
      "50000/50000 [==============================] - 9s 176us/step - loss: 0.0896 - accuracy: 0.9703 - val_loss: 4.0940 - val_accuracy: 0.5275\n",
      "Epoch 70/100\n",
      "50000/50000 [==============================] - 8s 159us/step - loss: 0.0916 - accuracy: 0.9694 - val_loss: 4.1053 - val_accuracy: 0.5273\n",
      "Epoch 71/100\n",
      "50000/50000 [==============================] - 9s 174us/step - loss: 0.0963 - accuracy: 0.9684 - val_loss: 3.9405 - val_accuracy: 0.5298\n",
      "Epoch 72/100\n",
      "50000/50000 [==============================] - 9s 173us/step - loss: 0.0764 - accuracy: 0.9746 - val_loss: 4.0188 - val_accuracy: 0.5297\n",
      "Epoch 73/100\n",
      "50000/50000 [==============================] - 8s 167us/step - loss: 0.0924 - accuracy: 0.9701 - val_loss: 4.0544 - val_accuracy: 0.5312\n",
      "Epoch 74/100\n",
      "50000/50000 [==============================] - 9s 172us/step - loss: 0.0675 - accuracy: 0.9780 - val_loss: 4.0317 - val_accuracy: 0.5271\n",
      "Epoch 75/100\n",
      "50000/50000 [==============================] - 8s 168us/step - loss: 0.0908 - accuracy: 0.9690 - val_loss: 3.9902 - val_accuracy: 0.5327\n",
      "Epoch 76/100\n",
      "50000/50000 [==============================] - 8s 167us/step - loss: 0.1042 - accuracy: 0.9666 - val_loss: 3.9056 - val_accuracy: 0.5358\n",
      "Epoch 77/100\n",
      "50000/50000 [==============================] - 8s 165us/step - loss: 0.0621 - accuracy: 0.9800 - val_loss: 4.3020 - val_accuracy: 0.5337\n",
      "Epoch 78/100\n",
      "50000/50000 [==============================] - 8s 167us/step - loss: 0.0943 - accuracy: 0.9692 - val_loss: 4.0380 - val_accuracy: 0.5317\n",
      "Epoch 79/100\n",
      "50000/50000 [==============================] - 8s 165us/step - loss: 0.0724 - accuracy: 0.9764 - val_loss: 4.1062 - val_accuracy: 0.5337\n",
      "Epoch 80/100\n",
      "50000/50000 [==============================] - 8s 167us/step - loss: 0.0776 - accuracy: 0.9757 - val_loss: 4.0771 - val_accuracy: 0.5323\n",
      "Epoch 81/100\n",
      "50000/50000 [==============================] - 8s 169us/step - loss: 0.0886 - accuracy: 0.9714 - val_loss: 4.1271 - val_accuracy: 0.5323\n",
      "Epoch 82/100\n",
      "50000/50000 [==============================] - 9s 176us/step - loss: 0.0722 - accuracy: 0.9755 - val_loss: 4.1561 - val_accuracy: 0.5289\n",
      "Epoch 83/100\n",
      "50000/50000 [==============================] - 8s 160us/step - loss: 0.0682 - accuracy: 0.9781 - val_loss: 4.0502 - val_accuracy: 0.5319\n",
      "Epoch 84/100\n",
      "50000/50000 [==============================] - 8s 159us/step - loss: 0.0912 - accuracy: 0.9708 - val_loss: 3.8500 - val_accuracy: 0.5282\n",
      "Epoch 85/100\n",
      "50000/50000 [==============================] - 8s 153us/step - loss: 0.0764 - accuracy: 0.9758 - val_loss: 4.0065 - val_accuracy: 0.5354\n",
      "Epoch 86/100\n",
      "50000/50000 [==============================] - 8s 159us/step - loss: 0.0627 - accuracy: 0.9800 - val_loss: 4.0927 - val_accuracy: 0.5330\n",
      "Epoch 87/100\n",
      "50000/50000 [==============================] - 8s 163us/step - loss: 0.0751 - accuracy: 0.9762 - val_loss: 4.1667 - val_accuracy: 0.5246\n",
      "Epoch 88/100\n",
      "50000/50000 [==============================] - 8s 152us/step - loss: 0.0638 - accuracy: 0.9800 - val_loss: 4.2469 - val_accuracy: 0.5297\n",
      "Epoch 89/100\n",
      "50000/50000 [==============================] - 8s 161us/step - loss: 0.0861 - accuracy: 0.9723 - val_loss: 4.1188 - val_accuracy: 0.5395\n",
      "Epoch 90/100\n",
      "50000/50000 [==============================] - 8s 162us/step - loss: 0.0637 - accuracy: 0.9796 - val_loss: 4.3103 - val_accuracy: 0.5335\n",
      "Epoch 91/100\n",
      "50000/50000 [==============================] - 8s 152us/step - loss: 0.0673 - accuracy: 0.9783 - val_loss: 4.3323 - val_accuracy: 0.5336\n",
      "Epoch 92/100\n",
      "50000/50000 [==============================] - 8s 159us/step - loss: 0.0786 - accuracy: 0.9752 - val_loss: 4.1853 - val_accuracy: 0.5344\n",
      "Epoch 93/100\n",
      "50000/50000 [==============================] - 8s 162us/step - loss: 0.0621 - accuracy: 0.9799 - val_loss: 4.3233 - val_accuracy: 0.5243\n",
      "Epoch 94/100\n",
      "50000/50000 [==============================] - 8s 155us/step - loss: 0.0697 - accuracy: 0.9774 - val_loss: 4.0856 - val_accuracy: 0.5247\n",
      "Epoch 95/100\n",
      "50000/50000 [==============================] - 8s 158us/step - loss: 0.0755 - accuracy: 0.9760 - val_loss: 4.0180 - val_accuracy: 0.5373\n",
      "Epoch 96/100\n",
      "50000/50000 [==============================] - 9s 173us/step - loss: 0.0584 - accuracy: 0.9811 - val_loss: 4.3043 - val_accuracy: 0.5296\n",
      "Epoch 97/100\n",
      "50000/50000 [==============================] - 8s 157us/step - loss: 0.0735 - accuracy: 0.9769 - val_loss: 4.2840 - val_accuracy: 0.5317\n",
      "Epoch 98/100\n",
      "50000/50000 [==============================] - 9s 176us/step - loss: 0.0613 - accuracy: 0.9798 - val_loss: 4.1975 - val_accuracy: 0.5348\n",
      "Epoch 99/100\n",
      "50000/50000 [==============================] - 8s 164us/step - loss: 0.0576 - accuracy: 0.9820 - val_loss: 4.2159 - val_accuracy: 0.5332\n",
      "Epoch 100/100\n",
      "50000/50000 [==============================] - 8s 158us/step - loss: 0.0660 - accuracy: 0.9787 - val_loss: 4.2029 - val_accuracy: 0.5217\n"
     ]
    },
    {
     "data": {
      "text/plain": [
       "<keras.callbacks.callbacks.History at 0x7fa17c540b10>"
      ]
     },
     "execution_count": 9,
     "metadata": {},
     "output_type": "execute_result"
    }
   ],
   "source": [
    "model.fit(x_train, y_train, \n",
    "          epochs=EPOCHS, \n",
    "          batch_size=BATCH_SIZE, \n",
    "          validation_data=(x_test, y_test), \n",
    "          shuffle=True)"
   ]
  },
  {
   "cell_type": "code",
   "execution_count": 10,
   "metadata": {},
   "outputs": [
    {
     "data": {
      "image/png": "[encoded data removed]",
      "text/plain": [
       "<Figure size 432x288 with 1 Axes>"
      ]
     },
     "metadata": {
      "needs_background": "light"
     },
     "output_type": "display_data"
    },
    {
     "data": {
      "image/png": "[encoded data removed]",
      "text/plain": [
       "<Figure size 432x288 with 1 Axes>"
      ]
     },
     "metadata": {
      "needs_background": "light"
     },
     "output_type": "display_data"
    }
   ],
   "source": [
    "import matplotlib.pyplot as plt\n",
    "\n",
    "\n",
    "train_loss = model.history.history[\"loss\"]\n",
    "valid_loss = model.history.history[\"val_loss\"]\n",
    "\n",
    "train_acc = model.history.history[\"accuracy\"]\n",
    "valid_acc = model.history.history[\"val_accuracy\"]\n",
    "\n",
    "plt.plot(range(len(train_loss)), train_loss, label=\"train loss\")\n",
    "plt.plot(range(len(valid_loss)), valid_loss, label=\"valid loss\")\n",
    "plt.legend()\n",
    "plt.title(\"Loss\")\n",
    "plt.show()\n",
    "\n",
    "plt.plot(range(len(train_acc)), train_acc, label=\"train accuracy\")\n",
    "plt.plot(range(len(valid_acc)), valid_acc, label=\"valid accuracy\")\n",
    "plt.legend()\n",
    "plt.title(\"Accuracy\")\n",
    "plt.show()"
   ]
  },
  {
   "cell_type": "code",
   "execution_count": null,
   "metadata": {},
   "outputs": [],
   "source": []
  }
 ],
 "metadata": {
  "kernelspec": {
   "display_name": "Python 3",
   "language": "python",
   "name": "python3"
  },
  "language_info": {
   "codemirror_mode": {
    "name": "ipython",
    "version": 3
   },
   "file_extension": ".py",
   "mimetype": "text/x-python",
   "name": "python",
   "nbconvert_exporter": "python",
   "pygments_lexer": "ipython3",
   "version": "3.7.6"
  }
 },
 "nbformat": 4,
 "nbformat_minor": 2
}
